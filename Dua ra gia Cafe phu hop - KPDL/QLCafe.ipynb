{
  "nbformat": 4,
  "nbformat_minor": 0,
  "metadata": {
    "colab": {
      "provenance": []
    },
    "kernelspec": {
      "name": "python3",
      "display_name": "Python 3"
    },
    "language_info": {
      "name": "python"
    }
  },
  "cells": [
    {
      "cell_type": "markdown",
      "source": [
        "-------------------\n",
        "# 1. Đọc các file"
      ],
      "metadata": {
        "id": "goUEVTl9ubDX"
      }
    },
    {
      "cell_type": "code",
      "source": [
        "import pandas as pd\n",
        "\n",
        "# Đọc file ChiPhiSPDuKien.csv\n",
        "try:\n",
        "    df_chiphi = pd.read_csv('ChiPhiSPDuKien_csv.csv')\n",
        "    print(\"Đã đọc file ChiPhiSPDuKien_csv.csv thành công:\")\n",
        "    # print(df_chiphi.head())\n",
        "except FileNotFoundError:\n",
        "    print(\"Không tìm thấy file ChiPhiSPDuKien_csv.csv\")\n",
        "\n",
        "# Đọc file DuLieuBanHang.csv\n",
        "try:\n",
        "    df_banhang = pd.read_csv('DuLieuBanHang_csv.csv')\n",
        "    print(\"\\nĐã đọc file DuLieuBanHang_csv.csv thành công:\")\n",
        "    # print(df_banhang.head())\n",
        "except FileNotFoundError:\n",
        "    print(\"Không tìm thấy file DuLieuBanHang_csv.csv\")\n",
        "\n",
        "# Đọc file GiaBanCua1SoCuaHang.csv\n",
        "try:\n",
        "    df_giaban = pd.read_csv('GiaBanCua1SoCuaHang_csv.csv')\n",
        "    print(\"\\nĐã đọc file GiaBanCua1SoCuaHang_csv.csv thành công:\")\n",
        "    # print(df_giaban.head())\n",
        "except FileNotFoundError:\n",
        "    print(\"Không tìm thấy file GiaBanCua1SoCuaHang_csv.csv\")\n",
        "\n",
        "# Đọc file KyNghi.csv\n",
        "try:\n",
        "    df_kynghi = pd.read_csv('KyNghi.csv')\n",
        "    print(\"\\nĐã đọc file KyNghi_csv.csv thành công:\")\n",
        "    # print(df_kynghi.head())\n",
        "except FileNotFoundError:\n",
        "    print(\"Không tìm thấy file KyNghi.csv\")"
      ],
      "metadata": {
        "colab": {
          "base_uri": "https://localhost:8080/"
        },
        "id": "JCvdOiFmuYzZ",
        "outputId": "df11f96a-0d0b-471c-dceb-1d5db9b75bc5"
      },
      "execution_count": 2,
      "outputs": [
        {
          "output_type": "stream",
          "name": "stdout",
          "text": [
            "Đã đọc file ChiPhiSPDuKien_csv.csv thành công:\n",
            "\n",
            "Đã đọc file DuLieuBanHang_csv.csv thành công:\n",
            "\n",
            "Đã đọc file GiaBanCua1SoCuaHang_csv.csv thành công:\n",
            "\n",
            "Đã đọc file KyNghi_csv.csv thành công:\n"
          ]
        }
      ]
    },
    {
      "cell_type": "markdown",
      "source": [
        "---------\n",
        "# 2. Tiền xử lý dữ liệu"
      ],
      "metadata": {
        "id": "p8akR9Lnugii"
      }
    },
    {
      "cell_type": "code",
      "source": [
        "# --- Kiểm tra df_chiphi ---\n",
        "print(\"--- df_chiphi ---\")\n",
        "print(\"Thông tin chung:\")\n",
        "df_chiphi.info()\n",
        "print(\"\\nSố lượng giá trị thiếu:\")\n",
        "print(df_chiphi.isnull().sum())\n",
        "print(\"\\nSố lượng dòng trùng lặp:\")\n",
        "print(df_chiphi.duplicated().sum())\n",
        "\n",
        "# --- Kiểm tra df_banhang ---\n",
        "print(\"\\n--- df_banhang ---\")\n",
        "print(\"Thông tin chung:\")\n",
        "df_banhang.info()\n",
        "print(\"\\nSố lượng giá trị thiếu:\")\n",
        "print(df_banhang.isnull().sum())\n",
        "print(\"\\nSố lượng dòng trùng lặp:\")\n",
        "print(df_banhang.duplicated().sum())\n",
        "\n",
        "# --- Kiểm tra df_giaban ---\n",
        "print(\"\\n--- df_giaban ---\")\n",
        "print(\"Thông tin chung:\")\n",
        "df_giaban.info()\n",
        "print(\"\\nSố lượng giá trị thiếu:\")\n",
        "print(df_giaban.isnull().sum())\n",
        "print(\"\\nSố lượng dòng trùng lặp:\")\n",
        "print(df_giaban.duplicated().sum())\n",
        "\n",
        "# --- Kiểm tra df_kynghi ---\n",
        "print(\"\\n--- df_kynghi ---\")\n",
        "print(\"Thông tin chung:\")\n",
        "df_kynghi.info()\n",
        "print(\"\\nSố lượng giá trị thiếu:\")\n",
        "print(df_kynghi.isnull().sum())\n",
        "print(\"\\nSố lượng dòng trùng lặp:\")\n",
        "print(df_kynghi.duplicated().sum())"
      ],
      "metadata": {
        "colab": {
          "base_uri": "https://localhost:8080/"
        },
        "id": "6pcjLMEwuYxA",
        "outputId": "11b75580-644b-41b4-f546-78c993431cae"
      },
      "execution_count": 3,
      "outputs": [
        {
          "output_type": "stream",
          "name": "stdout",
          "text": [
            "--- df_chiphi ---\n",
            "Thông tin chung:\n",
            "<class 'pandas.core.frame.DataFrame'>\n",
            "RangeIndex: 18 entries, 0 to 17\n",
            "Data columns (total 9 columns):\n",
            " #   Column               Non-Null Count  Dtype \n",
            "---  ------               --------------  ----- \n",
            " 0   Ma Loai              18 non-null     int64 \n",
            " 1   Ma SP                18 non-null     object\n",
            " 2   Chi Phi Nguyen Lieu  18 non-null     int64 \n",
            " 3   Chi Phi Nhan Cong    18 non-null     int64 \n",
            " 4   Chi Phi Van Hanh     18 non-null     int64 \n",
            " 5   Tong Chi Phi         18 non-null     int64 \n",
            " 6   Khuyen Mai(%)        18 non-null     int64 \n",
            " 7   Danh Gia(%)          18 non-null     int64 \n",
            " 8   Gia Ban Du Kien      18 non-null     int64 \n",
            "dtypes: int64(8), object(1)\n",
            "memory usage: 1.4+ KB\n",
            "\n",
            "Số lượng giá trị thiếu:\n",
            "Ma Loai                0\n",
            "Ma SP                  0\n",
            "Chi Phi Nguyen Lieu    0\n",
            "Chi Phi Nhan Cong      0\n",
            "Chi Phi Van Hanh       0\n",
            "Tong Chi Phi           0\n",
            "Khuyen Mai(%)          0\n",
            "Danh Gia(%)            0\n",
            "Gia Ban Du Kien        0\n",
            "dtype: int64\n",
            "\n",
            "Số lượng dòng trùng lặp:\n",
            "0\n",
            "\n",
            "--- df_banhang ---\n",
            "Thông tin chung:\n",
            "<class 'pandas.core.frame.DataFrame'>\n",
            "RangeIndex: 2160 entries, 0 to 2159\n",
            "Data columns (total 4 columns):\n",
            " #   Column      Non-Null Count  Dtype \n",
            "---  ------      --------------  ----- \n",
            " 0   Ngay        2160 non-null   object\n",
            " 1   SanPham     2160 non-null   object\n",
            " 2   SoLuongBan  2160 non-null   int64 \n",
            " 3   GiaBan      2160 non-null   int64 \n",
            "dtypes: int64(2), object(2)\n",
            "memory usage: 67.6+ KB\n",
            "\n",
            "Số lượng giá trị thiếu:\n",
            "Ngay          0\n",
            "SanPham       0\n",
            "SoLuongBan    0\n",
            "GiaBan        0\n",
            "dtype: int64\n",
            "\n",
            "Số lượng dòng trùng lặp:\n",
            "0\n",
            "\n",
            "--- df_giaban ---\n",
            "Thông tin chung:\n",
            "<class 'pandas.core.frame.DataFrame'>\n",
            "RangeIndex: 18 entries, 0 to 17\n",
            "Columns: 301 entries, MaSP to GiaBanCuaHang 300\n",
            "dtypes: int64(300), object(1)\n",
            "memory usage: 42.5+ KB\n",
            "\n",
            "Số lượng giá trị thiếu:\n",
            "MaSP                 0\n",
            "GiaBanCuaHang 1      0\n",
            "GiaBanCuaHang 2      0\n",
            "GiaBanCuaHang 3      0\n",
            "GiaBanCuaHang 4      0\n",
            "                    ..\n",
            "GiaBanCuaHang 296    0\n",
            "GiaBanCuaHang 297    0\n",
            "GiaBanCuaHang 298    0\n",
            "GiaBanCuaHang 299    0\n",
            "GiaBanCuaHang 300    0\n",
            "Length: 301, dtype: int64\n",
            "\n",
            "Số lượng dòng trùng lặp:\n",
            "0\n",
            "\n",
            "--- df_kynghi ---\n",
            "Thông tin chung:\n",
            "<class 'pandas.core.frame.DataFrame'>\n",
            "RangeIndex: 731 entries, 0 to 730\n",
            "Data columns (total 6 columns):\n",
            " #   Column       Non-Null Count  Dtype  \n",
            "---  ------       --------------  -----  \n",
            " 0   Ngay Thang   731 non-null    object \n",
            " 1   Ngay le      31 non-null     object \n",
            " 2   Cuoi tuan    731 non-null    int64  \n",
            " 3   Nghi hoc     731 non-null    int64  \n",
            " 4   Nhiet do TB  731 non-null    int64  \n",
            " 5   Ngoai troi   731 non-null    float64\n",
            "dtypes: float64(1), int64(3), object(2)\n",
            "memory usage: 34.4+ KB\n",
            "\n",
            "Số lượng giá trị thiếu:\n",
            "Ngay Thang       0\n",
            "Ngay le        700\n",
            "Cuoi tuan        0\n",
            "Nghi hoc         0\n",
            "Nhiet do TB      0\n",
            "Ngoai troi       0\n",
            "dtype: int64\n",
            "\n",
            "Số lượng dòng trùng lặp:\n",
            "0\n"
          ]
        }
      ]
    },
    {
      "cell_type": "code",
      "source": [
        "# Chuyển đổi cột 'Ngay' sang kiểu datetime trong df_banhang\n",
        "df_banhang['Ngay'] = pd.to_datetime(df_banhang['Ngay'])\n",
        "print(\"\\nKiểu dữ liệu mới của cột 'Ngay' trong df_banhang:\")\n",
        "print(df_banhang['Ngay'].dtype)\n",
        "print(df_banhang.head())\n",
        "\n",
        "# Chuyển đổi cột 'Ngay Thang' sang kiểu datetime trong df_kynghi\n",
        "df_kynghi['Ngay Thang'] = pd.to_datetime(df_kynghi['Ngay Thang'])\n",
        "print(\"\\nKiểu dữ liệu mới của cột 'Ngay Thang' trong df_kynghi:\")\n",
        "print(df_kynghi['Ngay Thang'].dtype)\n",
        "print(df_kynghi.head())"
      ],
      "metadata": {
        "colab": {
          "base_uri": "https://localhost:8080/"
        },
        "id": "MQSpYghEuYun",
        "outputId": "42b29b53-06c8-41fd-82dc-56c475e74ec6"
      },
      "execution_count": 4,
      "outputs": [
        {
          "output_type": "stream",
          "name": "stdout",
          "text": [
            "\n",
            "Kiểu dữ liệu mới của cột 'Ngay' trong df_banhang:\n",
            "datetime64[ns]\n",
            "        Ngay SanPham  SoLuongBan  GiaBan\n",
            "0 2025-02-01    SP01           8      25\n",
            "1 2025-02-01    SP02          15      20\n",
            "2 2025-02-01    SP03           4      28\n",
            "3 2025-02-01    SP04          17      24\n",
            "4 2025-02-01    SP05          12      28\n",
            "\n",
            "Kiểu dữ liệu mới của cột 'Ngay Thang' trong df_kynghi:\n",
            "datetime64[ns]\n",
            "  Ngay Thang         Ngay le  Cuoi tuan  Nghi hoc  Nhiet do TB  Ngoai troi\n",
            "0 2025-01-01  Tet duong lich          1         1           26         0.6\n",
            "1 2025-01-02             NaN          0         0           26         0.6\n",
            "2 2025-01-03             NaN          0         0           26         0.6\n",
            "3 2025-01-04             NaN          0         0           26         0.6\n",
            "4 2025-01-05             NaN          0         0           26         0.6\n"
          ]
        }
      ]
    },
    {
      "cell_type": "markdown",
      "source": [
        "---------\n",
        "# 3. Ghép (Merge) Dữ liệu"
      ],
      "metadata": {
        "id": "NmRXu-Icuyp3"
      }
    },
    {
      "cell_type": "code",
      "source": [
        "print(\"\\n--- 1. Đang ghép dữ liệu từ các file ---\")\n",
        "df_merged = pd.merge(df_banhang, df_chiphi, left_on='SanPham', right_on='Ma SP', how='left')\n",
        "# Loại bỏ cột 'Ma SP' trùng lặp sau merge nếu không cần thiết\n",
        "df_merged = df_merged.drop(columns=['Ma SP_y'], errors='ignore')\n",
        "df_merged = df_merged.rename(columns={'Ma SP_x': 'Ma SP'}) # Đổi tên lại cột Ma SP gốc nếu nó bị đổi\n",
        "\n",
        "df_merged = pd.merge(df_merged, df_giaban, left_on='SanPham', right_on='MaSP', how='left')\n",
        "df_merged = df_merged.drop(columns=['MaSP'], errors='ignore')\n",
        "\n",
        "df_merged = pd.merge(df_merged, df_kynghi, left_on='Ngay', right_on='Ngay Thang', how='left')\n",
        "df_merged = df_merged.drop(columns=['Ngay Thang'], errors='ignore')\n",
        "\n",
        "print(\"DataFrame sau khi merge:\")\n",
        "print(df_merged.head())\n",
        "print(f\"Kích thước DataFrame sau khi merge: {df_merged.shape}\")"
      ],
      "metadata": {
        "colab": {
          "base_uri": "https://localhost:8080/"
        },
        "id": "kLZXEvPHuYp5",
        "outputId": "a715baa9-bff5-4387-d587-df0894ee5b80"
      },
      "execution_count": 5,
      "outputs": [
        {
          "output_type": "stream",
          "name": "stdout",
          "text": [
            "\n",
            "--- 1. Đang ghép dữ liệu từ các file ---\n",
            "DataFrame sau khi merge:\n",
            "        Ngay SanPham  SoLuongBan  GiaBan  Ma Loai Ma SP  Chi Phi Nguyen Lieu  \\\n",
            "0 2025-02-01    SP01           8      25        1  SP01                   15   \n",
            "1 2025-02-01    SP02          15      20        1  SP02                   10   \n",
            "2 2025-02-01    SP03           4      28        1  SP03                   18   \n",
            "3 2025-02-01    SP04          17      24        1  SP04                   14   \n",
            "4 2025-02-01    SP05          12      28        1  SP05                   18   \n",
            "\n",
            "   Chi Phi Nhan Cong  Chi Phi Van Hanh  Tong Chi Phi  ...  GiaBanCuaHang 296  \\\n",
            "0                 15                 5             2  ...                 20   \n",
            "1                 10                 5             2  ...                 19   \n",
            "2                 18                 5             2  ...                 31   \n",
            "3                 14                 5             2  ...                 28   \n",
            "4                 18                 5             2  ...                 24   \n",
            "\n",
            "   GiaBanCuaHang 297  GiaBanCuaHang 298  GiaBanCuaHang 299  GiaBanCuaHang 300  \\\n",
            "0                 22                 25                 21                 20   \n",
            "1                 15                 14                 15                 14   \n",
            "2                 35                 31                 29                 26   \n",
            "3                 28                 25                 29                 26   \n",
            "4                 35                 32                 25                 34   \n",
            "\n",
            "   Ngay le  Cuoi tuan  Nghi hoc  Nhiet do TB  Ngoai troi  \n",
            "0      NaN          0         0           26         0.6  \n",
            "1      NaN          0         0           26         0.6  \n",
            "2      NaN          0         0           26         0.6  \n",
            "3      NaN          0         0           26         0.6  \n",
            "4      NaN          0         0           26         0.6  \n",
            "\n",
            "[5 rows x 318 columns]\n",
            "Kích thước DataFrame sau khi merge: (2160, 318)\n"
          ]
        }
      ]
    },
    {
      "cell_type": "markdown",
      "source": [
        "-------------\n",
        "# Thống kê"
      ],
      "metadata": {
        "id": "1HBQM8IyvFK_"
      }
    },
    {
      "cell_type": "code",
      "source": [
        "# --- Thống kê mô tả của df_chiphi ---\n",
        "print(\"--- Thống kê mô tả của df_chiphi ---\")\n",
        "print(df_chiphi.describe())\n",
        "\n",
        "# --- Thống kê mô tả của df_banhang ---\n",
        "print(\"\\n--- Thống kê mô tả của df_banhang ---\")\n",
        "print(df_banhang.describe())\n",
        "\n",
        "# --- Thống kê mô tả của df_giaban ---\n",
        "print(\"\\n--- Thống kê mô tả của df_giaban ---\")\n",
        "print(df_giaban.describe())\n",
        "\n",
        "# --- Thống kê mô tả của df_kynghi ---\n",
        "print(\"\\n--- Thống kê mô tả của df_kynghi ---\")\n",
        "print(df_kynghi.describe())"
      ],
      "metadata": {
        "colab": {
          "base_uri": "https://localhost:8080/"
        },
        "id": "OMC4Z4FkuYlq",
        "outputId": "06eb1167-ea00-40e5-e0d9-d5911d06d032"
      },
      "execution_count": 6,
      "outputs": [
        {
          "output_type": "stream",
          "name": "stdout",
          "text": [
            "--- Thống kê mô tả của df_chiphi ---\n",
            "         Ma Loai  Chi Phi Nguyen Lieu  Chi Phi Nhan Cong  Chi Phi Van Hanh  \\\n",
            "count  18.000000            18.000000          18.000000              18.0   \n",
            "mean    1.777778            11.388889          11.388889               5.0   \n",
            "std     0.732084             4.188765           4.188765               0.0   \n",
            "min     1.000000             5.000000           5.000000               5.0   \n",
            "25%     1.000000             8.500000           8.500000               5.0   \n",
            "50%     2.000000            11.000000          11.000000               5.0   \n",
            "75%     2.000000            14.750000          14.750000               5.0   \n",
            "max     3.000000            18.000000          18.000000               5.0   \n",
            "\n",
            "       Tong Chi Phi  Khuyen Mai(%)  Danh Gia(%)  Gia Ban Du Kien  \n",
            "count          18.0      18.000000    18.000000        18.000000  \n",
            "mean            2.0      10.222222     2.555556        18.388889  \n",
            "std             0.0       6.217202     1.580105         4.188765  \n",
            "min             2.0       0.000000     0.000000        12.000000  \n",
            "25%             2.0       5.000000     2.000000        15.500000  \n",
            "50%             2.0       9.000000     2.000000        18.000000  \n",
            "75%             2.0      16.000000     3.750000        21.750000  \n",
            "max             2.0      19.000000     5.000000        25.000000  \n",
            "\n",
            "--- Thống kê mô tả của df_banhang ---\n",
            "                                Ngay   SoLuongBan       GiaBan\n",
            "count                           2160  2160.000000  2160.000000\n",
            "mean   2025-04-01 11:59:20.000000256     9.809259    21.388889\n",
            "min              2025-02-01 00:00:00     0.000000    15.000000\n",
            "25%              2025-03-02 18:00:00     5.000000    18.000000\n",
            "50%              2025-04-01 12:00:00    10.000000    21.000000\n",
            "75%              2025-05-01 06:00:00    15.000000    25.000000\n",
            "max              2025-05-31 00:00:00    20.000000    28.000000\n",
            "std                              NaN     6.019784     4.071690\n",
            "\n",
            "--- Thống kê mô tả của df_giaban ---\n",
            "       GiaBanCuaHang 1  GiaBanCuaHang 2  GiaBanCuaHang 3  GiaBanCuaHang 4  \\\n",
            "count        18.000000        18.000000        18.000000        18.000000   \n",
            "mean         21.166667        21.277778        20.833333        21.222222   \n",
            "std           5.090360         6.133855         6.749728         6.440274   \n",
            "min          14.000000        12.000000        12.000000        10.000000   \n",
            "25%          17.250000        19.000000        14.750000        17.250000   \n",
            "50%          20.000000        19.500000        20.500000        22.000000   \n",
            "75%          24.500000        25.000000        26.000000        25.000000   \n",
            "max          35.000000        37.000000        33.000000        33.000000   \n",
            "\n",
            "       GiaBanCuaHang 5  GiaBanCuaHang 6  GiaBanCuaHang 7  GiaBanCuaHang 8  \\\n",
            "count        18.000000        18.000000        18.000000        18.000000   \n",
            "mean         22.000000        20.444444        21.611111        20.111111   \n",
            "std           6.173949         6.261199         5.293046         5.890060   \n",
            "min          12.000000        11.000000        10.000000        12.000000   \n",
            "25%          16.750000        14.250000        20.250000        15.250000   \n",
            "50%          21.500000        21.500000        21.500000        19.000000   \n",
            "75%          25.000000        25.000000        24.750000        24.000000   \n",
            "max          37.000000        31.000000        33.000000        30.000000   \n",
            "\n",
            "       GiaBanCuaHang 9  GiaBanCuaHang 10  ...  GiaBanCuaHang 291  \\\n",
            "count        18.000000         18.000000  ...          18.000000   \n",
            "mean         21.277778         20.777778  ...          21.388889   \n",
            "std           6.056650          5.407572  ...           7.154915   \n",
            "min          10.000000         11.000000  ...          11.000000   \n",
            "25%          18.000000         16.000000  ...          15.250000   \n",
            "50%          19.500000         21.000000  ...          20.500000   \n",
            "75%          26.000000         24.000000  ...          25.750000   \n",
            "max          34.000000         29.000000  ...          38.000000   \n",
            "\n",
            "       GiaBanCuaHang 292  GiaBanCuaHang 293  GiaBanCuaHang 294  \\\n",
            "count          18.000000          18.000000          18.000000   \n",
            "mean           21.000000          22.444444          21.277778   \n",
            "std             6.453453           6.545966           6.806619   \n",
            "min            13.000000          12.000000          10.000000   \n",
            "25%            16.250000          17.500000          17.000000   \n",
            "50%            18.000000          23.500000          21.500000   \n",
            "75%            26.000000          27.500000          26.250000   \n",
            "max            33.000000          32.000000          34.000000   \n",
            "\n",
            "       GiaBanCuaHang 295  GiaBanCuaHang 296  GiaBanCuaHang 297  \\\n",
            "count          18.000000          18.000000          18.000000   \n",
            "mean           21.777778          20.222222          22.444444   \n",
            "std             7.681571           7.092295           6.930090   \n",
            "min            11.000000          10.000000          13.000000   \n",
            "25%            14.500000          13.750000          16.250000   \n",
            "50%            20.500000          19.000000          22.500000   \n",
            "75%            28.000000          27.250000          28.000000   \n",
            "max            34.000000          31.000000          35.000000   \n",
            "\n",
            "       GiaBanCuaHang 298  GiaBanCuaHang 299  GiaBanCuaHang 300  \n",
            "count          18.000000          18.000000          18.000000  \n",
            "mean           21.888889          19.611111          20.333333  \n",
            "std             5.870052           6.316541           6.343130  \n",
            "min            14.000000          10.000000          12.000000  \n",
            "25%            17.250000          15.250000          14.750000  \n",
            "50%            22.000000          19.500000          20.000000  \n",
            "75%            26.500000          23.750000          25.750000  \n",
            "max            32.000000          29.000000          34.000000  \n",
            "\n",
            "[8 rows x 300 columns]\n",
            "\n",
            "--- Thống kê mô tả của df_kynghi ---\n",
            "                Ngay Thang   Cuoi tuan    Nghi hoc  Nhiet do TB  Ngoai troi\n",
            "count                  731  731.000000  731.000000   731.000000  731.000000\n",
            "mean   2024-12-31 00:00:00    0.287278    0.374829    25.737346    0.612585\n",
            "min    2024-01-01 00:00:00    0.000000    0.000000    21.000000    0.400000\n",
            "25%    2024-07-01 12:00:00    0.000000    0.000000    24.000000    0.600000\n",
            "50%    2024-12-31 00:00:00    0.000000    0.000000    26.000000    0.600000\n",
            "75%    2025-07-01 12:00:00    1.000000    1.000000    28.000000    0.700000\n",
            "max    2025-12-31 00:00:00    1.000000    1.000000    29.000000    1.000000\n",
            "std                    NaN    0.452802    0.484410     2.464424    0.088242\n"
          ]
        }
      ]
    },
    {
      "cell_type": "markdown",
      "source": [
        "----------------\n",
        "# 4. Trực quan hóa dữ liệu (EDA)"
      ],
      "metadata": {
        "id": "QYrR1oITvZP5"
      }
    },
    {
      "cell_type": "code",
      "source": [
        "import matplotlib.pyplot as plt\n",
        "import seaborn as sns\n",
        "\n",
        "print(\"\\n--- 2. Trực quan hóa dữ liệu (EDA) ---\")\n",
        "# --- Trực quan hóa df_chiphi ---\n",
        "plt.figure(figsize=(10, 6))\n",
        "sns.histplot(df_chiphi['Gia Ban Du Kien'], kde=True)    # Biểu đồ Histogram\n",
        "plt.title('Phân phối của Giá Bán Dự Kiến')\n",
        "plt.xlabel('Giá Bán Dự Kiến')\n",
        "plt.ylabel('Tần số')\n",
        "plt.show()\n",
        "\n",
        "# cols_to_scatter_chiphi = ['Chi Phi Nguyen Lieu', 'Chi Phi Nhan Cong', 'Khuyen Mai(%)', 'Danh Gia(%)']\n",
        "# for col in cols_to_scatter_chiphi:\n",
        "#     plt.figure(figsize=(8, 6))\n",
        "#     sns.scatterplot(x=df_chiphi[col], y=df_chiphi['Gia Ban Du Kien'])   # Biểu đồ Scatter (phân tán)\n",
        "#     plt.title(f'Mối quan hệ giữa {col} và Giá Bán Dự Kiến')\n",
        "#     plt.xlabel(col)\n",
        "#     plt.ylabel('Giá Bán Dự Kiến')\n",
        "#     plt.show()\n",
        "\n",
        "# --- Trực quan hóa df_banhang ---\n",
        "plt.figure(figsize=(10, 6))\n",
        "sns.histplot(df_banhang['GiaBan'], kde=True)    # Biểu đồ Histogram\n",
        "plt.title('Phân phối của Giá Bán Thực Tế')\n",
        "plt.xlabel('Giá Bán Thực Tế')\n",
        "plt.ylabel('Tần số')\n",
        "plt.show()\n",
        "\n",
        "plt.figure(figsize=(10, 6))\n",
        "sns.histplot(df_banhang['SoLuongBan'], kde=True)    # Biểu đồ Histogram\n",
        "plt.title('Phân phối của Số Lượng Bán')\n",
        "plt.xlabel('Số Lượng Bán')\n",
        "plt.ylabel('Tần số')\n",
        "plt.show()\n",
        "\n",
        "# plt.figure(figsize=(12, 6))\n",
        "# sns.lineplot(x='Ngay', y='SoLuongBan', data=df_banhang)  # Biểu đồ đường\n",
        "# plt.title('Số Lượng Bán theo Thời Gian')\n",
        "# plt.xlabel('Ngày')\n",
        "# plt.ylabel('Số Lượng Bán')\n",
        "# plt.show()\n",
        "\n",
        "# plt.figure(figsize=(12, 6))\n",
        "# sns.lineplot(x='Ngay', y='GiaBan', data=df_banhang)    # Biểu đồ đường\n",
        "# plt.title('Giá Bán theo Thời Gian')\n",
        "# plt.xlabel('Ngày')\n",
        "# plt.ylabel('Giá Bán')\n",
        "# plt.show()\n",
        "\n",
        "# # --- Trực quan hóa df_giaban ---\n",
        "# num_cols_to_plot = 5\n",
        "# random_cols = ['GiaBanCuaHang 1', 'GiaBanCuaHang 50', 'GiaBanCuaHang 100', 'GiaBanCuaHang 150', 'GiaBanCuaHang 200']\n",
        "# plt.figure(figsize=(12, 7))\n",
        "# sns.boxplot(data=df_giaban[random_cols])    # Biểu đồ Boxplot (hộp)\n",
        "# plt.title(f'So sánh giá bán ở một số cửa hàng ngẫu nhiên')\n",
        "# plt.ylabel('Giá Bán')\n",
        "# plt.xlabel('Cửa Hàng')\n",
        "# plt.show()\n",
        "\n",
        "# # --- Trực quan hóa df_kynghi ---\n",
        "# plt.figure(figsize=(8, 6))\n",
        "# sns.boxplot(x='Cuoi tuan', y='Nhiet do TB', data=df_kynghi)   # Biểu đồ Boxplot (hộp)\n",
        "# plt.title('Nhiệt độ trung bình vào cuối tuần và ngày thường')\n",
        "# plt.xlabel('Cuối tuần (0: Không, 1: Có)')\n",
        "# plt.ylabel('Nhiệt độ trung bình')\n",
        "# plt.show()\n",
        "\n",
        "# plt.figure(figsize=(8, 6))\n",
        "# sns.boxplot(x='Nghi hoc', y='Ngoai troi', data=df_kynghi)   # Biểu đồ Boxplot (hộp)\n",
        "# plt.title('Yếu tố ngoài trời vào ngày nghỉ học và ngày thường')\n",
        "# plt.xlabel('Nghỉ học (0: Không, 1: Có)')\n",
        "# plt.ylabel('Yếu tố ngoài trời')\n",
        "# plt.show()"
      ],
      "metadata": {
        "colab": {
          "base_uri": "https://localhost:8080/",
          "height": 1000
        },
        "id": "3ZjtKWKiuYjp",
        "outputId": "955d3764-0a6a-4437-ec33-ca5df1bfd39d"
      },
      "execution_count": 7,
      "outputs": [
        {
          "output_type": "stream",
          "name": "stdout",
          "text": [
            "\n",
            "--- 2. Trực quan hóa dữ liệu (EDA) ---\n"
          ]
        },
        {
          "output_type": "display_data",
          "data": {
            "text/plain": [
              "<Figure size 1000x600 with 1 Axes>"
            ],
            "image/png": "[encoded data removed]"
          },
          "metadata": {}
        },
        {
          "output_type": "display_data",
          "data": {
            "text/plain": [
              "<Figure size 1000x600 with 1 Axes>"
            ],
            "image/png": "[encoded data removed]"
          },
          "metadata": {}
        },
        {
          "output_type": "display_data",
          "data": {
            "text/plain": [
              "<Figure size 1000x600 with 1 Axes>"
            ],
            "image/png": "[encoded data removed]"
          },
          "metadata": {}
        }
      ]
    },
    {
      "cell_type": "markdown",
      "source": [
        "--------------------\n",
        "# 5. Chọn Đặc trưng và Biến Mục tiêu (cho mô hình dự đoán GiaBan)"
      ],
      "metadata": {
        "id": "pt917blVv0uX"
      }
    },
    {
      "cell_type": "code",
      "source": [
        "\n",
        "print(\"\\n--- 3. Chọn đặc trưng và biến mục tiêu ---\")\n",
        "features = ['Chi Phi Nguyen Lieu', 'Chi Phi Nhan Cong', 'Chi Phi Van Hanh', 'Tong Chi Phi', 'Khuyen Mai(%)', 'Danh Gia(%)']\n",
        "target = 'GiaBan' # Mục tiêu là dự đoán giá bán thực tế\n",
        "\n",
        "X = df_merged[features]\n",
        "y = df_merged[target]\n"
      ],
      "metadata": {
        "colab": {
          "base_uri": "https://localhost:8080/"
        },
        "id": "T-O665hsuYhG",
        "outputId": "9729895b-3f25-49b2-e375-74d2664c8869"
      },
      "execution_count": 8,
      "outputs": [
        {
          "output_type": "stream",
          "name": "stdout",
          "text": [
            "\n",
            "--- 3. Chọn đặc trưng và biến mục tiêu ---\n"
          ]
        }
      ]
    },
    {
      "cell_type": "markdown",
      "source": [
        "-------\n",
        "# 6. Xử lý NaN trong các cột đã chọn (Kiểm tra lại, thường thì đã sạch sau merge)"
      ],
      "metadata": {
        "id": "YwNn4DtKwACH"
      }
    },
    {
      "cell_type": "code",
      "source": [
        "\n",
        "print(\"\\n--- 4. Kiểm tra và xử lý NaN ---\")\n",
        "print(\"Số lượng NaN trong các đặc trưng:\")\n",
        "print(X.isnull().sum())\n",
        "print(\"\\nSố lượng NaN trong biến mục tiêu:\")\n",
        "print(y.isnull().sum())\n",
        "# Nếu có NaN, bạn có thể thêm: X.fillna(X.mean(), inplace=True) hoặc X.dropna(inplace=True)\n",
        "# Nhưng với dữ liệu này thì không cần vì đã sạch."
      ],
      "metadata": {
        "colab": {
          "base_uri": "https://localhost:8080/"
        },
        "id": "S4z-luYcurCZ",
        "outputId": "4cc05869-5fda-43f8-aba6-71e9fd5b35ea"
      },
      "execution_count": 9,
      "outputs": [
        {
          "output_type": "stream",
          "name": "stdout",
          "text": [
            "\n",
            "--- 4. Kiểm tra và xử lý NaN ---\n",
            "Số lượng NaN trong các đặc trưng:\n",
            "Chi Phi Nguyen Lieu    0\n",
            "Chi Phi Nhan Cong      0\n",
            "Chi Phi Van Hanh       0\n",
            "Tong Chi Phi           0\n",
            "Khuyen Mai(%)          0\n",
            "Danh Gia(%)            0\n",
            "dtype: int64\n",
            "\n",
            "Số lượng NaN trong biến mục tiêu:\n",
            "0\n"
          ]
        }
      ]
    },
    {
      "cell_type": "markdown",
      "source": [
        "-------------------\n",
        "# 7. Chia dữ liệu thành tập huấn luyện và tập kiểm tra"
      ],
      "metadata": {
        "id": "ULcDu5SwwY-U"
      }
    },
    {
      "cell_type": "code",
      "source": [
        "\n",
        "print(\"\\n--- 5. Chia dữ liệu thành tập huấn luyện và tập kiểm tra ---\")\n",
        "X_train, X_test, y_train, y_test = train_test_split(X, y, test_size=0.2, random_state=42)\n",
        "\n",
        "print(f\"Kích thước tập huấn luyện: {X_train.shape}\")\n",
        "print(f\"Kích thước tập kiểm tra: {X_test.shape}\")"
      ],
      "metadata": {
        "colab": {
          "base_uri": "https://localhost:8080/"
        },
        "id": "0IYaZw8purA1",
        "outputId": "6b709ae7-8fe5-4e32-f1ae-ae12f1641e03"
      },
      "execution_count": 10,
      "outputs": [
        {
          "output_type": "stream",
          "name": "stdout",
          "text": [
            "\n",
            "--- 5. Chia dữ liệu thành tập huấn luyện và tập kiểm tra ---\n",
            "Kích thước tập huấn luyện: (1728, 6)\n",
            "Kích thước tập kiểm tra: (432, 6)\n"
          ]
        }
      ]
    },
    {
      "cell_type": "markdown",
      "source": [
        "------------\n",
        "# 8. Huấn luyện Mô hình Hồi quy Tuyến tính"
      ],
      "metadata": {
        "id": "rnS126aMwoY4"
      }
    },
    {
      "cell_type": "code",
      "source": [
        "\n",
        "print(\"\\n--- 6. Huấn luyện mô hình hồi quy tuyến tính ---\")\n",
        "model = LinearRegression()\n",
        "model.fit(X_train, y_train)\n",
        "print(\"Mô hình đã được huấn luyện.\")"
      ],
      "metadata": {
        "colab": {
          "base_uri": "https://localhost:8080/"
        },
        "id": "PAd0H48euq9a",
        "outputId": "1e856365-70b7-4500-fdd9-f17ec8cf6e31"
      },
      "execution_count": 11,
      "outputs": [
        {
          "output_type": "stream",
          "name": "stdout",
          "text": [
            "\n",
            "--- 6. Huấn luyện mô hình hồi quy tuyến tính ---\n",
            "Mô hình đã được huấn luyện.\n"
          ]
        }
      ]
    },
    {
      "cell_type": "markdown",
      "source": [
        "----------\n",
        "# 9. Đánh giá Mô hình"
      ],
      "metadata": {
        "id": "FmhmJOT_wwmP"
      }
    },
    {
      "cell_type": "code",
      "source": [
        "\n",
        "print(\"\\n--- 7. Đánh giá mô hình ---\")\n",
        "y_pred_test = model.predict(X_test) # Đặt tên biến khác để tránh nhầm lẫn với y_pred_all_products\n",
        "\n",
        "mse = mean_squared_error(y_test, y_pred_test)\n",
        "r2 = r2_score(y_test, y_pred_test)\n",
        "\n",
        "print(\"Mean Squared Error (MSE) trên tập kiểm tra:\", mse)\n",
        "print(\"R-squared (R2) trên tập kiểm tra:\", r2)\n",
        "\n",
        "print(\"\\nHệ số hồi quy (coefficients):\")\n",
        "for feature, coef in zip(features, model.coef_):\n",
        "    print(f\"{feature}: {coef}\")\n",
        "print(\"\\nIntercept:\", model.intercept_)\n",
        "\n",
        "# Kiểm định chéo\n",
        "print(\"\\n--- Kết quả kiểm định chéo (Cross-Validation) ---\")\n",
        "model_cv = LinearRegression()\n",
        "mse_scores = cross_val_score(model_cv, X, y, cv=5, scoring='neg_mean_squared_error')\n",
        "mean_mse_cv = -mse_scores.mean()\n",
        "r2_scores = cross_val_score(model_cv, X, y, cv=5, scoring='r2')\n",
        "mean_r2_cv = r2_scores.mean()\n",
        "\n",
        "print(f\"Mean MSE (Cross-Validation): {mean_mse_cv}\")\n",
        "print(f\"Mean R-squared (Cross-Validation): {mean_r2_cv}\")"
      ],
      "metadata": {
        "colab": {
          "base_uri": "https://localhost:8080/"
        },
        "id": "JMl8qaGfuq66",
        "outputId": "355f5484-9803-4858-96d5-e03ee04e81c0"
      },
      "execution_count": 12,
      "outputs": [
        {
          "output_type": "stream",
          "name": "stdout",
          "text": [
            "\n",
            "--- 7. Đánh giá mô hình ---\n",
            "Mean Squared Error (MSE) trên tập kiểm tra: 13.19330481427132\n",
            "R-squared (R2) trên tập kiểm tra: 0.18526705699666668\n",
            "\n",
            "Hệ số hồi quy (coefficients):\n",
            "Chi Phi Nguyen Lieu: 0.25186719156866033\n",
            "Chi Phi Nhan Cong: 0.25186719156866033\n",
            "Chi Phi Van Hanh: 0.0\n",
            "Tong Chi Phi: 0.0\n",
            "Khuyen Mai(%): 0.04263796940138563\n",
            "Danh Gia(%): 0.04112413459184576\n",
            "\n",
            "Intercept: 15.09485521296125\n",
            "\n",
            "--- Kết quả kiểm định chéo (Cross-Validation) ---\n",
            "Mean MSE (Cross-Validation): 15.065091225744855\n",
            "Mean R-squared (Cross-Validation): 0.09087547827503592\n"
          ]
        }
      ]
    },
    {
      "cell_type": "markdown",
      "source": [
        "---------------\n",
        "# 10.  Dự đoán giá cho 18 SP (SP01 đến SP18) và xuất file"
      ],
      "metadata": {
        "id": "1yrXla6Dw8mL"
      }
    },
    {
      "cell_type": "code",
      "source": [
        "\n",
        "print(\"\\n--- 8. Dự đoán giá cho 18 sản phẩm và xuất file ---\")\n",
        "\n",
        "# 1. Tạo DataFrame df_ten_sp từ dữ liệu cung cấp (ví dụ)\n",
        "data_ten_sp = {\n",
        "    'Ma SP': ['SP01', 'SP02', 'SP03', 'SP04', 'SP05', 'SP06', 'SP07', 'SP08', 'SP09', 'SP10',\n",
        "              'SP11', 'SP12', 'SP13', 'SP14', 'SP15', 'SP16', 'SP17', 'SP18'],\n",
        "    'Ten SP': ['Cafe sữa', 'Cafe đen', 'Cafe trứng', 'Latte', 'Latte matcha', 'Mocha', 'Cappuccino',\n",
        "               'Sữa chua', 'Sữa chua đá', 'Trà xanh', 'Trà đào', 'Trà chanh', 'Sinh tố',\n",
        "               'Nước ép trái cây', 'Nước ngọt', 'Bánh ngọt', 'Bánh mì', 'Bánh Cheesecake']\n",
        "}\n",
        "df_ten_sp = pd.DataFrame(data_ten_sp)\n",
        "\n",
        "\n",
        "# Lấy các đặc trưng từ df_chiphi tương ứng với 18 SP để dự đoán\n",
        "# Đảm bảo các cột trong df_chiphi['Ma Loai'] và df_chiphi['Ma SP'] khớp với dữ liệu bạn có.\n",
        "X_predict_18_sp = df_chiphi[features]\n",
        "\n",
        "\n",
        "# Dự đoán giá cho từng sản phẩm (18 SP)\n",
        "gia_du_doan_18_sp = model.predict(X_predict_18_sp)\n",
        "\n",
        "# Tạo DataFrame để hiển thị Ma Loai SP, Ma SP, Ten SP và giá dự đoán\n",
        "df_gia_du_doan_final = pd.DataFrame({\n",
        "    'ma_loai_sp': df_chiphi['Ma Loai'],\n",
        "    'ma_sp': df_chiphi['Ma SP'],\n",
        "    'gia_du_doan': gia_du_doan_18_sp\n",
        "})\n",
        "\n",
        "# Merge df_gia_du_doan_final với df_ten_sp để thêm cột Ten SP\n",
        "df_gia_du_doan_final = pd.merge(df_gia_du_doan_final, df_ten_sp, left_on='ma_sp', right_on='Ma SP', how='left')\n",
        "\n",
        "# Loại bỏ cột 'Ma SP' trùng lặp từ df_ten_sp sau khi merge\n",
        "df_gia_du_doan_final = df_gia_du_doan_final.drop(columns=['Ma SP'])\n",
        "# Đổi tên cột 'Ten SP' thành 'ten_sp' để không dấu\n",
        "df_gia_du_doan_final = df_gia_du_doan_final.rename(columns={'Ten SP': 'ten_sp'})\n",
        "\n",
        "\n",
        "print(\"Giá dự đoán cho từng sản phẩm (theo Mã Sản phẩm):\")\n",
        "print(df_gia_du_doan_final)\n",
        "\n",
        "# Xuất ra file CSV\n",
        "df_gia_du_doan_final.to_csv('gia_du_doan_sp.csv', index=False)\n",
        "print(\"\\nĐã xuất giá dự đoán ra file gia_du_doan_sp.csv\")\n",
        "\n",
        "# Xuất ra file SQL (.sql)\n",
        "with open('gia_du_doan_sp.sql', 'w', encoding='utf-8') as f:\n",
        "    f.write('''\n",
        "CREATE TABLE IF NOT EXISTS gia_du_doan (\n",
        "    ma_loai_sp INTEGER,\n",
        "    ma_sp TEXT,\n",
        "    ten_sp TEXT,\n",
        "    gia_du_doan REAL\n",
        ");\n",
        "DELETE FROM gia_du_doan;\n",
        "''')\n",
        "    for index, row in df_gia_du_doan_final.iterrows():\n",
        "        escaped_ten_sp = str(row['ten_sp']).replace(\"'\", \"''\") # Đảm bảo là string và thoát ký tự '\n",
        "        f.write(f\"INSERT INTO gia_du_doan VALUES ({row['ma_loai_sp']}, '{row['ma_sp']}', '{escaped_ten_sp}', {row['gia_du_doan']});\\n\")\n",
        "\n",
        "print(\"Đã xuất giá dự đoán ra file gia_du_doan_sp.sql\")\n",
        "\n",
        "# # Xuất ra file SQLite (.db)\n",
        "# conn = sqlite3.connect('gia_du_doan_sp.db')\n",
        "# cursor = conn.cursor()\n",
        "\n",
        "# cursor.execute('''\n",
        "#     CREATE TABLE IF NOT EXISTS gia_du_doan (\n",
        "#         ma_loai_sp INTEGER,\n",
        "#         ma_sp TEXT,\n",
        "#         ten_sp TEXT,\n",
        "#         gia_du_doan REAL\n",
        "#     )\n",
        "# ''')\n",
        "# cursor.execute(\"DELETE FROM gia_du_doan\")\n",
        "\n",
        "# for index, row in df_gia_du_doan_final.iterrows():\n",
        "#     cursor.execute(\"INSERT INTO gia_du_doan VALUES (?, ?, ?, ?)\",\n",
        "#                    (row['ma_loai_sp'], row['ma_sp'], row['ten_sp'], row['gia_du_doan']))\n",
        "\n",
        "# conn.commit()\n",
        "# conn.close()\n",
        "\n",
        "# print(\"Đã xuất giá dự đoán ra database gia_du_doan_sp.db\")"
      ],
      "metadata": {
        "colab": {
          "base_uri": "https://localhost:8080/"
        },
        "id": "i9T95Z7XuYZi",
        "outputId": "efa1bd43-a2ad-4cfc-ded0-b17e086bf8ac"
      },
      "execution_count": 13,
      "outputs": [
        {
          "output_type": "stream",
          "name": "stdout",
          "text": [
            "\n",
            "--- 8. Dự đoán giá cho 18 sản phẩm và xuất file ---\n",
            "Giá dự đoán cho từng sản phẩm (theo Mã Sản phẩm):\n",
            "    ma_loai_sp ma_sp  gia_du_doan            ten_sp\n",
            "0            1  SP01    22.819909          Cafe sữa\n",
            "1            1  SP02    20.896655          Cafe đen\n",
            "2            1  SP03    24.708799        Cafe trứng\n",
            "3            1  SP04    22.229385             Latte\n",
            "4            1  SP05    24.370722      Latte matcha\n",
            "5            1  SP06    23.372689             Mocha\n",
            "6            1  SP07    23.495709        Cappuccino\n",
            "7            2  SP08    18.502869          Sữa chua\n",
            "8            2  SP09    19.303203       Sữa chua đá\n",
            "9            2  SP10    17.908965          Trà xanh\n",
            "10           2  SP11    19.379044           Trà đào\n",
            "11           2  SP12    18.750776         Trà chanh\n",
            "12           2  SP13    21.024569           Sinh tố\n",
            "13           2  SP14    21.563020  Nước ép trái cây\n",
            "14           2  SP15    20.551010         Nước ngọt\n",
            "15           3  SP16    22.073162         Bánh ngọt\n",
            "16           3  SP17    20.980417           Bánh mì\n",
            "17           3  SP18    22.779137   Bánh Cheesecake\n",
            "\n",
            "Đã xuất giá dự đoán ra file gia_du_doan_sp.csv\n",
            "Đã xuất giá dự đoán ra file gia_du_doan_sp.sql\n"
          ]
        }
      ]
    }
  ]
}